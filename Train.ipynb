{
 "cells": [
  {
   "cell_type": "code",
   "execution_count": 2,
   "metadata": {},
   "outputs": [
    {
     "name": "stdout",
     "output_type": "stream",
     "text": [
      "[PhysicalDevice(name='/physical_device:CPU:0', device_type='CPU'), PhysicalDevice(name='/physical_device:GPU:0', device_type='GPU')]\n"
     ]
    }
   ],
   "source": [
    "from __future__ import absolute_import, division, print_function\n",
    "import tensorflow as tf\n",
    "\n",
    "#%pip install keras-tcn --no-dependencies\n",
    "\n",
    "#%pip install tensorflow-addons[tensorflow-gpu] --no-dependencies\n",
    "\n",
    "#%pip install pandas --upgrade\n",
    "\n",
    "#%pip install multivariate_cwru\n",
    "\n",
    "#%pip install tqdm\n",
    "\n",
    "#%pip install scipy\n",
    "\n",
    "#%pip install sklearn\n",
    "\n",
    "#%pip install matplotlib\n",
    "\n",
    "#%pip install typeguard\n",
    "\n",
    "\n",
    "tf.config.list_physical_devices(device_type=None)\n",
    "physical_devices = tf.config.list_physical_devices('GPU')\n",
    "visible_devices = tf.config.get_visible_devices()\n",
    "print(visible_devices)\n",
    "num_GPU = len(tf.config.experimental.list_physical_devices('/physical_device:GPU:0'))\n",
    "tf.config.experimental.set_memory_growth(physical_devices[0], True)\n",
    "import scipy.io\n",
    "from scipy import stats\n",
    "import matplotlib.pyplot as plt\n",
    "import numpy as np\n",
    "import pandas as pd\n",
    "from sklearn import metrics\n",
    "\n",
    "#Deep Learning pkgs\n",
    "from tensorflow.keras import backend as K, Input, Model, optimizers\n",
    "from tensorflow.keras.layers import Dense, Activation\n",
    "import tensorflow.keras.metrics\n",
    "from tensorflow.keras.metrics import SparseCategoricalCrossentropy\n",
    "from tensorflow.keras.models import Sequential\n",
    "from tensorflow.keras.callbacks import ReduceLROnPlateau, TensorBoard, ModelCheckpoint, Callback\n",
    "from tensorflow.keras.activations import swish\n",
    "K.backend()\n",
    "\n",
    "# Python\n",
    "from IPython.core.debugger import set_trace\n",
    "from pathlib import Path\n",
    "import os\n",
    "import datetime\n",
    "import time\n",
    "import glob\n",
    "from timeit import default_timer as timer\n",
    "\n",
    "\n",
    "#Project Specific\n",
    "import tcn_ed\n",
    "from tcn_ed import TCN, tcn_full_summary, compiled_tcn\n",
    "from help_pre import create_data_batcht as Create_Batch, create_pred_batch\n",
    "import multivariate_cwru\n",
    "\n",
    "def csv_import(dir_p, use_type, high_freq = False, b_size=1024):\n",
    "    segment_length = 2400\n",
    "    target = 'label'\n",
    "    cwd = os.getcwd()\n",
    "    col_ran = [*range(2400)]\n",
    "    d_t = dict()\n",
    "    d_t['label'] = 'int8'\n",
    "    d_t['Unnamed: 0'] = 'int8'\n",
    "    for col in col_ran:\n",
    "        d_t['%s' % col] =  'float16'\n",
    "    \n",
    "    if str(cwd) == str(dir_p):\n",
    "        dir_path=Path('./')\n",
    "    else: dir_path = dir_p\n",
    "    \n",
    "    if use_type == 'train':\n",
    "        if high_freq == False:\n",
    "            train_frame = pd.read_csv((r'{}.csv').format('train_df_no48'), dtype=(d_t))\n",
    "            test_frame = pd.read_csv((r'{}.csv').format('test_df_no48'), dtype=(d_t))\n",
    "            \n",
    "        if high_freq:\n",
    "            train_frame = pd.read_csv((r'{}.csv').format('train_df_w48'), dtype=(d_t))\n",
    "            test_frame = pd.read_csv((r'{}.csv').format('test_df_w48'), dtype=(d_t))\n",
    "            \n",
    "        train_frame = train_frame.set_index(train_frame.iloc[:, 0]).drop('Unnamed: 0', axis=1)\n",
    "        train_target = train_frame.pop('label')\n",
    "        train_x = train_frame.to_numpy().reshape(len(train_frame), segment_length, 1)\n",
    "        train_y = train_target.to_numpy().reshape(-1, 1)\n",
    "        options = tf.data.Options()\n",
    "        options.experimental_optimization.apply_default_optimizations = True\n",
    "        train_dataset = tf.data.Dataset.from_tensor_slices((train_x, train_y)).batch(b_size).with_options(options).cache()\n",
    "        test_frame = test_frame.set_index(test_frame.iloc[:, 0]).drop('Unnamed: 0', axis=1)\n",
    "        test_target = test_frame.pop('label')\n",
    "        test_x = test_frame.to_numpy().reshape(len(test_frame), segment_length, 1)\n",
    "        test_y = test_target.to_numpy().reshape(-1, 1)\n",
    "        test_dataset = tf.data.Dataset.from_tensor_slices((test_x, test_y)).batch(b_size).with_options(options).cache()\n",
    "        print('class balance of train frame: %s' % train_target.value_counts())\n",
    "        print('class balance of validation (test) frame: %s' % test_target.value_counts())\n",
    "        out_1 = train_dataset\n",
    "        out_2 = test_dataset\n",
    "            \n",
    "    if use_type == 'pred':\n",
    "        if high_freq == False:\n",
    "            val_frame = pd.read_csv((r'{}.csv').format('pred_df_no48'), dtype=d_t)\n",
    "            \n",
    "        if high_freq:\n",
    "            val_frame == pd.read_csv((r'{}.csv').format('pred_df_w48'), dtype=d_t)\n",
    "\n",
    "\n",
    "        val_frame = val_frame.set_index(val_frame.iloc[:, 0]).drop('Unnamed: 0', axis=1)\n",
    "\n",
    "        val_target = val_frame.pop('label')\n",
    "        print('class balance of train frame: %s' % val_target.value_counts())\n",
    "        val_x = val_frame.to_numpy().reshape(len(val_frame), segment_length, 1)\n",
    "        val_y = val_target.to_numpy().reshape(-1, 1)\n",
    "\n",
    "        options = tf.data.Options()\n",
    "        options.experimental_optimization.apply_default_optimizations = True\n",
    "        dataset = tf.data.Dataset.from_tensor_slices((val_x, val_y)).batch(b_size).with_options(options).cache()\n",
    "\n",
    "        out_1 = dataset\n",
    "        out_2 = val_y\n",
    "        \n",
    "    return out_1, out_2"
   ]
  },
  {
   "cell_type": "code",
   "execution_count": 3,
   "metadata": {},
   "outputs": [
    {
     "name": "stdout",
     "output_type": "stream",
     "text": [
      "class balance of train frame: 3    57451\n",
      "1    28917\n",
      "2    28747\n",
      "0     9656\n",
      "Name: label, dtype: int64\n",
      "class balance of validation (test) frame: 3    30229\n",
      "1    12081\n",
      "2    11013\n",
      "0     9650\n",
      "Name: label, dtype: int64\n",
      "class balance of train frame: 3    4770\n",
      "1    2384\n",
      "2    2384\n",
      "0    1612\n",
      "Name: label, dtype: int64\n"
     ]
    }
   ],
   "source": [
    "train_dataset, test_dataset = csv_import(dir_p = os.getcwd(), use_type='train', high_freq = True)\n",
    "val_dataset, predict_labels = csv_import(dir_p = os.getcwd(), use_type = 'pred' , high_freq = False)"
   ]
  },
  {
   "cell_type": "code",
   "execution_count": 4,
   "metadata": {},
   "outputs": [
    {
     "name": "stdout",
     "output_type": "stream",
     "text": [
      "[2021-05-12 05:45:18.279 tensorflow-2-3-gpu--ml-g4dn-xlarge-48a04204b31d97ed11a2a179d435:489 INFO utils.py:27] RULE_JOB_STOP_SIGNAL_FILENAME: None\n",
      "[2021-05-12 05:45:18.334 tensorflow-2-3-gpu--ml-g4dn-xlarge-48a04204b31d97ed11a2a179d435:489 INFO profiler_config_parser.py:102] Unable to find config at /opt/ml/input/config/profilerconfig.json. Profiler is disabled.\n",
      "x.shape= (None, 16)\n",
      "model.x = (None, 2400, 1)\n",
      "model.y = (None, 4)\n"
     ]
    }
   ],
   "source": [
    "model = compiled_tcn(return_sequences=False,\n",
    "                         num_feat=1,\n",
    "                         num_classes=4,\n",
    "                         nb_filters=16,\n",
    "                         kernel_size=11,\n",
    "                         dilations=[2 ** i for i in range(7)],\n",
    "                         nb_stacks=1,\n",
    "                         max_len=2400,\n",
    "                         output_len=1,  # type: int\n",
    "                         padding='causal',  # type: str\n",
    "                         use_skip_connections=True,  # type: bool\n",
    "                         regression=False,  # type: bool\n",
    "                         dropout_rate=0.3,  # type: float\n",
    "                         name='Model1',  # type: str,\n",
    "                         kernel_initializer='he_normal',  # type: str,\n",
    "                         activation='swish',  # type:str,\n",
    "                         opt='adam',\n",
    "                         lr=0.002,\n",
    "                         use_batch_norm=False,\n",
    "                         use_layer_norm=False,\n",
    "                         use_weight_norm=True)"
   ]
  },
  {
   "cell_type": "code",
   "execution_count": 5,
   "metadata": {},
   "outputs": [
    {
     "name": "stdout",
     "output_type": "stream",
     "text": [
      "Model: \"functional_1\"\n",
      "_________________________________________________________________\n",
      "Layer (type)                 Output Shape              Param #   \n",
      "=================================================================\n",
      "input_1 (InputLayer)         [(None, 2400, 1)]         0         \n",
      "_________________________________________________________________\n",
      "Model1 (TCN)                 (None, 16)                74286     \n",
      "_________________________________________________________________\n",
      "dense (Dense)                (None, 4)                 68        \n",
      "_________________________________________________________________\n",
      "activation (Activation)      (None, 4)                 0         \n",
      "=================================================================\n",
      "Total params: 74,354\n",
      "Trainable params: 37,332\n",
      "Non-trainable params: 37,022\n",
      "_________________________________________________________________\n"
     ]
    }
   ],
   "source": [
    "model.summary()"
   ]
  },
  {
   "cell_type": "code",
   "execution_count": 6,
   "metadata": {
    "tags": []
   },
   "outputs": [
    {
     "name": "stdout",
     "output_type": "stream",
     "text": [
      "Model: \"functional_1\"\n",
      "_________________________________________________________________\n",
      "Layer (type)                 Output Shape              Param #   \n",
      "=================================================================\n",
      "input_1 (InputLayer)         [(None, 2400, 1)]         0         \n",
      "_________________________________________________________________\n",
      "matching_conv1D (Conv1D)     (None, 2400, 16)          32        \n",
      "_________________________________________________________________\n",
      "activation_3 (Activation)    (None, 2400, 16)          0         \n",
      "_________________________________________________________________\n",
      "weight_normalization (Weight (None, 2400, 16)          401       \n",
      "_________________________________________________________________\n",
      "activation (Activation)      (None, 2400, 16)          0         \n",
      "_________________________________________________________________\n",
      "spatial_dropout1d (SpatialDr (None, 2400, 16)          0         \n",
      "_________________________________________________________________\n",
      "weight_normalization_1 (Weig (None, 2400, 16)          5681      \n",
      "_________________________________________________________________\n",
      "activation_1 (Activation)    (None, 2400, 16)          0         \n",
      "_________________________________________________________________\n",
      "spatial_dropout1d_1 (Spatial (None, 2400, 16)          0         \n",
      "_________________________________________________________________\n",
      "activation_2 (Activation)    (None, 2400, 16)          0         \n",
      "_________________________________________________________________\n",
      "matching_identity (Lambda)   (None, 2400, 16)          0         \n",
      "_________________________________________________________________\n",
      "activation_7 (Activation)    (None, 2400, 16)          0         \n",
      "_________________________________________________________________\n",
      "weight_normalization_2 (Weig (None, 2400, 16)          5681      \n",
      "_________________________________________________________________\n",
      "activation_4 (Activation)    (None, 2400, 16)          0         \n",
      "_________________________________________________________________\n",
      "spatial_dropout1d_2 (Spatial (None, 2400, 16)          0         \n",
      "_________________________________________________________________\n",
      "weight_normalization_3 (Weig (None, 2400, 16)          5681      \n",
      "_________________________________________________________________\n",
      "activation_5 (Activation)    (None, 2400, 16)          0         \n",
      "_________________________________________________________________\n",
      "spatial_dropout1d_3 (Spatial (None, 2400, 16)          0         \n",
      "_________________________________________________________________\n",
      "activation_6 (Activation)    (None, 2400, 16)          0         \n",
      "_________________________________________________________________\n",
      "matching_identity (Lambda)   (None, 2400, 16)          0         \n",
      "_________________________________________________________________\n",
      "activation_11 (Activation)   (None, 2400, 16)          0         \n",
      "_________________________________________________________________\n",
      "weight_normalization_4 (Weig (None, 2400, 16)          5681      \n",
      "_________________________________________________________________\n",
      "activation_8 (Activation)    (None, 2400, 16)          0         \n",
      "_________________________________________________________________\n",
      "spatial_dropout1d_4 (Spatial (None, 2400, 16)          0         \n",
      "_________________________________________________________________\n",
      "weight_normalization_5 (Weig (None, 2400, 16)          5681      \n",
      "_________________________________________________________________\n",
      "activation_9 (Activation)    (None, 2400, 16)          0         \n",
      "_________________________________________________________________\n",
      "spatial_dropout1d_5 (Spatial (None, 2400, 16)          0         \n",
      "_________________________________________________________________\n",
      "activation_10 (Activation)   (None, 2400, 16)          0         \n",
      "_________________________________________________________________\n",
      "matching_identity (Lambda)   (None, 2400, 16)          0         \n",
      "_________________________________________________________________\n",
      "activation_15 (Activation)   (None, 2400, 16)          0         \n",
      "_________________________________________________________________\n",
      "weight_normalization_6 (Weig (None, 2400, 16)          5681      \n",
      "_________________________________________________________________\n",
      "activation_12 (Activation)   (None, 2400, 16)          0         \n",
      "_________________________________________________________________\n",
      "spatial_dropout1d_6 (Spatial (None, 2400, 16)          0         \n",
      "_________________________________________________________________\n",
      "weight_normalization_7 (Weig (None, 2400, 16)          5681      \n",
      "_________________________________________________________________\n",
      "activation_13 (Activation)   (None, 2400, 16)          0         \n",
      "_________________________________________________________________\n",
      "spatial_dropout1d_7 (Spatial (None, 2400, 16)          0         \n",
      "_________________________________________________________________\n",
      "activation_14 (Activation)   (None, 2400, 16)          0         \n",
      "_________________________________________________________________\n",
      "matching_identity (Lambda)   (None, 2400, 16)          0         \n",
      "_________________________________________________________________\n",
      "activation_19 (Activation)   (None, 2400, 16)          0         \n",
      "_________________________________________________________________\n",
      "weight_normalization_8 (Weig (None, 2400, 16)          5681      \n",
      "_________________________________________________________________\n",
      "activation_16 (Activation)   (None, 2400, 16)          0         \n",
      "_________________________________________________________________\n",
      "spatial_dropout1d_8 (Spatial (None, 2400, 16)          0         \n",
      "_________________________________________________________________\n",
      "weight_normalization_9 (Weig (None, 2400, 16)          5681      \n",
      "_________________________________________________________________\n",
      "activation_17 (Activation)   (None, 2400, 16)          0         \n",
      "_________________________________________________________________\n",
      "spatial_dropout1d_9 (Spatial (None, 2400, 16)          0         \n",
      "_________________________________________________________________\n",
      "activation_18 (Activation)   (None, 2400, 16)          0         \n",
      "_________________________________________________________________\n",
      "matching_identity (Lambda)   (None, 2400, 16)          0         \n",
      "_________________________________________________________________\n",
      "activation_23 (Activation)   (None, 2400, 16)          0         \n",
      "_________________________________________________________________\n",
      "weight_normalization_10 (Wei (None, 2400, 16)          5681      \n",
      "_________________________________________________________________\n",
      "activation_20 (Activation)   (None, 2400, 16)          0         \n",
      "_________________________________________________________________\n",
      "spatial_dropout1d_10 (Spatia (None, 2400, 16)          0         \n",
      "_________________________________________________________________\n",
      "weight_normalization_11 (Wei (None, 2400, 16)          5681      \n",
      "_________________________________________________________________\n",
      "activation_21 (Activation)   (None, 2400, 16)          0         \n",
      "_________________________________________________________________\n",
      "spatial_dropout1d_11 (Spatia (None, 2400, 16)          0         \n",
      "_________________________________________________________________\n",
      "activation_22 (Activation)   (None, 2400, 16)          0         \n",
      "_________________________________________________________________\n",
      "matching_identity (Lambda)   (None, 2400, 16)          0         \n",
      "_________________________________________________________________\n",
      "activation_27 (Activation)   (None, 2400, 16)          0         \n",
      "_________________________________________________________________\n",
      "weight_normalization_12 (Wei (None, 2400, 16)          5681      \n",
      "_________________________________________________________________\n",
      "activation_24 (Activation)   (None, 2400, 16)          0         \n",
      "_________________________________________________________________\n",
      "spatial_dropout1d_12 (Spatia (None, 2400, 16)          0         \n",
      "_________________________________________________________________\n",
      "weight_normalization_13 (Wei (None, 2400, 16)          5681      \n",
      "_________________________________________________________________\n",
      "activation_25 (Activation)   (None, 2400, 16)          0         \n",
      "_________________________________________________________________\n",
      "spatial_dropout1d_13 (Spatia (None, 2400, 16)          0         \n",
      "_________________________________________________________________\n",
      "activation_26 (Activation)   (None, 2400, 16)          0         \n",
      "_________________________________________________________________\n",
      "lambda (Lambda)              (None, 16)                0         \n",
      "_________________________________________________________________\n",
      "dense (Dense)                (None, 4)                 68        \n",
      "_________________________________________________________________\n",
      "activation (Activation)      (None, 4)                 0         \n",
      "=================================================================\n",
      "Total params: 74,354\n",
      "Trainable params: 37,332\n",
      "Non-trainable params: 37,022\n",
      "_________________________________________________________________\n"
     ]
    }
   ],
   "source": [
    "tcn_full_summary(model)"
   ]
  },
  {
   "cell_type": "code",
   "execution_count": 7,
   "metadata": {},
   "outputs": [],
   "source": [
    "reduce_lr = ReduceLROnPlateau(monitor='val_loss', \n",
    "                              factor=0.5,   \n",
    "                              patience=3, \n",
    "                              min_lr=0.000000015,\n",
    "                              verbose=1, \n",
    "                              cooldown=5)\n",
    "\n",
    "ES_cb = tf.keras.callbacks.EarlyStopping(monitor='val_loss', \n",
    "                                         min_delta=0.00001, \n",
    "                                         patience=70, \n",
    "                                         verbose=0, \n",
    "                                         mode='auto', \n",
    "                                         baseline=None, \n",
    "                                         restore_best_weights=True)\n",
    "\n",
    "\n",
    "\n",
    "callback = [reduce_lr]#, ES_cb]\n"
   ]
  },
  {
   "cell_type": "markdown",
   "metadata": {},
   "source": [
    "# Call .fit to train\n",
    "\n",
    "```python\n",
    "Model.fit(\n",
    "    x=None,\n",
    "    y=None,\n",
    "    batch_size=None,\n",
    "    epochs=1,\n",
    "    verbose=1,\n",
    "    callbacks=None,\n",
    "    validation_split=0.0,\n",
    "    validation_data=None,\n",
    "    shuffle=True,\n",
    "    class_weight=None,\n",
    "    sample_weight=None,\n",
    "    initial_epoch=0,\n",
    "    steps_per_epoch=None,\n",
    "    validation_steps=None,\n",
    "    validation_batch_size=None,\n",
    "    validation_freq=1,\n",
    "    max_queue_size=10,\n",
    "    workers=1,\n",
    "    use_multiprocessing=False,\n",
    ")\n",
    "```\n"
   ]
  },
  {
   "cell_type": "code",
   "execution_count": null,
   "metadata": {},
   "outputs": [
    {
     "name": "stdout",
     "output_type": "stream",
     "text": [
      "Epoch 1/75\n",
      "122/122 [==============================] - 168s 1s/step - loss: 1.1260 - accuracy: 0.4642 - val_loss: 1.0087 - val_accuracy: 0.5142\n",
      "Epoch 2/75\n",
      "122/122 [==============================] - 164s 1s/step - loss: 0.9041 - accuracy: 0.5647 - val_loss: 0.7586 - val_accuracy: 0.6473\n",
      "Epoch 3/75\n",
      "122/122 [==============================] - 163s 1s/step - loss: 0.7488 - accuracy: 0.6438 - val_loss: 0.7287 - val_accuracy: 0.6536\n",
      "Epoch 4/75\n",
      "122/122 [==============================] - 163s 1s/step - loss: 0.6587 - accuracy: 0.6945 - val_loss: 0.6925 - val_accuracy: 0.6662\n",
      "Epoch 5/75\n",
      "122/122 [==============================] - 163s 1s/step - loss: 0.5863 - accuracy: 0.7352 - val_loss: 0.5951 - val_accuracy: 0.7396\n",
      "Epoch 6/75\n",
      "122/122 [==============================] - 163s 1s/step - loss: 0.5228 - accuracy: 0.7673 - val_loss: 0.5740 - val_accuracy: 0.7526\n",
      "Epoch 7/75\n",
      "122/122 [==============================] - 163s 1s/step - loss: 0.4784 - accuracy: 0.7891 - val_loss: 0.6093 - val_accuracy: 0.7554\n",
      "Epoch 8/75\n",
      "122/122 [==============================] - 163s 1s/step - loss: 0.4444 - accuracy: 0.8050 - val_loss: 0.5725 - val_accuracy: 0.7790\n",
      "Epoch 9/75\n",
      "122/122 [==============================] - 163s 1s/step - loss: 0.4139 - accuracy: 0.8193 - val_loss: 0.5498 - val_accuracy: 0.7904\n",
      "Epoch 10/75\n",
      "122/122 [==============================] - 163s 1s/step - loss: 0.3937 - accuracy: 0.8280 - val_loss: 0.5380 - val_accuracy: 0.8054\n",
      "Epoch 11/75\n",
      "122/122 [==============================] - 163s 1s/step - loss: 0.3720 - accuracy: 0.8388 - val_loss: 0.5065 - val_accuracy: 0.8217\n",
      "Epoch 12/75\n",
      "122/122 [==============================] - 163s 1s/step - loss: 0.3525 - accuracy: 0.8485 - val_loss: 0.5284 - val_accuracy: 0.8173\n",
      "Epoch 13/75\n",
      "122/122 [==============================] - 163s 1s/step - loss: 0.3341 - accuracy: 0.8566 - val_loss: 0.4485 - val_accuracy: 0.8462\n",
      "Epoch 14/75\n",
      "122/122 [==============================] - 163s 1s/step - loss: 0.3171 - accuracy: 0.8658 - val_loss: 0.4904 - val_accuracy: 0.8416\n",
      "Epoch 15/75\n",
      "122/122 [==============================] - 163s 1s/step - loss: 0.3059 - accuracy: 0.8732 - val_loss: 0.4357 - val_accuracy: 0.8631\n",
      "Epoch 16/75\n",
      "122/122 [==============================] - 163s 1s/step - loss: 0.2888 - accuracy: 0.8818 - val_loss: 0.4013 - val_accuracy: 0.8564\n",
      "Epoch 17/75\n",
      "122/122 [==============================] - 163s 1s/step - loss: 0.2710 - accuracy: 0.8918 - val_loss: 0.4287 - val_accuracy: 0.8558\n",
      "Epoch 18/75\n",
      "122/122 [==============================] - 163s 1s/step - loss: 0.2616 - accuracy: 0.8968 - val_loss: 0.4282 - val_accuracy: 0.8526\n",
      "Epoch 19/75\n",
      "122/122 [==============================] - ETA: 0s - loss: 0.2496 - accuracy: 0.9026\n",
      "Epoch 00019: ReduceLROnPlateau reducing learning rate to 0.0010000000474974513.\n",
      "122/122 [==============================] - 163s 1s/step - loss: 0.2496 - accuracy: 0.9026 - val_loss: 0.4289 - val_accuracy: 0.8607\n",
      "Epoch 20/75\n",
      "122/122 [==============================] - 163s 1s/step - loss: 0.2324 - accuracy: 0.9109 - val_loss: 0.3680 - val_accuracy: 0.8800\n",
      "Epoch 21/75\n",
      "122/122 [==============================] - 163s 1s/step - loss: 0.2231 - accuracy: 0.9141 - val_loss: 0.4157 - val_accuracy: 0.8738\n",
      "Epoch 22/75\n",
      "122/122 [==============================] - 163s 1s/step - loss: 0.2173 - accuracy: 0.9178 - val_loss: 0.4275 - val_accuracy: 0.8714\n",
      "Epoch 23/75\n",
      "122/122 [==============================] - 163s 1s/step - loss: 0.2167 - accuracy: 0.9182 - val_loss: 0.3647 - val_accuracy: 0.8808\n",
      "Epoch 24/75\n",
      "122/122 [==============================] - 163s 1s/step - loss: 0.2061 - accuracy: 0.9220 - val_loss: 0.3968 - val_accuracy: 0.8746\n",
      "Epoch 25/75\n",
      "122/122 [==============================] - 163s 1s/step - loss: 0.2020 - accuracy: 0.9245 - val_loss: 0.3506 - val_accuracy: 0.8817\n",
      "Epoch 26/75\n",
      " 86/122 [====================>.........] - ETA: 41s - loss: 0.2011 - accuracy: 0.9258"
     ]
    }
   ],
   "source": [
    "runs = 75\n",
    "\n",
    "history = model.fit(train_dataset,\n",
    "              epochs=runs,\n",
    "              verbose=1,\n",
    "              callbacks=callback,\n",
    "              validation_data=test_dataset)"
   ]
  },
  {
   "cell_type": "code",
   "execution_count": null,
   "metadata": {},
   "outputs": [],
   "source": []
  },
  {
   "cell_type": "code",
   "execution_count": 14,
   "metadata": {},
   "outputs": [
    {
     "data": {
      "text/plain": [
       "pathlib.Path"
      ]
     },
     "execution_count": 14,
     "metadata": {},
     "output_type": "execute_result"
    }
   ],
   "source": [
    "Path"
   ]
  },
  {
   "cell_type": "code",
   "execution_count": 15,
   "metadata": {},
   "outputs": [
    {
     "data": {
      "text/plain": [
       "PosixPath('Data')"
      ]
     },
     "execution_count": 15,
     "metadata": {},
     "output_type": "execute_result"
    }
   ],
   "source": [
    "DATA_PATH"
   ]
  },
  {
   "cell_type": "code",
   "execution_count": 16,
   "metadata": {},
   "outputs": [
    {
     "data": {
      "text/plain": [
       "PosixPath('Data/12k_DE')"
      ]
     },
     "execution_count": 16,
     "metadata": {},
     "output_type": "execute_result"
    }
   ],
   "source": [
    "DE_path"
   ]
  },
  {
   "cell_type": "code",
   "execution_count": 17,
   "metadata": {},
   "outputs": [],
   "source": [
    "df = matfile_to_df(DE_path)"
   ]
  },
  {
   "cell_type": "code",
   "execution_count": 18,
   "metadata": {},
   "outputs": [
    {
     "data": {
      "text/html": [
       "<div>\n",
       "<style scoped>\n",
       "    .dataframe tbody tr th:only-of-type {\n",
       "        vertical-align: middle;\n",
       "    }\n",
       "\n",
       "    .dataframe tbody tr th {\n",
       "        vertical-align: top;\n",
       "    }\n",
       "\n",
       "    .dataframe thead th {\n",
       "        text-align: right;\n",
       "    }\n",
       "</style>\n",
       "<table border=\"1\" class=\"dataframe\">\n",
       "  <thead>\n",
       "    <tr style=\"text-align: right;\">\n",
       "      <th></th>\n",
       "      <th>filename</th>\n",
       "      <th>DE_time</th>\n",
       "      <th>label</th>\n",
       "    </tr>\n",
       "  </thead>\n",
       "  <tbody>\n",
       "    <tr>\n",
       "      <th>0</th>\n",
       "      <td>Data/12k_DE/OR007@3_0.mat</td>\n",
       "      <td>[-0.16933862275449102, -0.04060878243512974, 0...</td>\n",
       "      <td>OR</td>\n",
       "    </tr>\n",
       "    <tr>\n",
       "      <th>1</th>\n",
       "      <td>Data/12k_DE/IR007_0.mat</td>\n",
       "      <td>[-0.08300435129740519, -0.19573433133732535, 0...</td>\n",
       "      <td>IR</td>\n",
       "    </tr>\n",
       "    <tr>\n",
       "      <th>2</th>\n",
       "      <td>Data/12k_DE/IR021_0.mat</td>\n",
       "      <td>[1.1894312375249503, -0.17786646706586826, -0....</td>\n",
       "      <td>IR</td>\n",
       "    </tr>\n",
       "    <tr>\n",
       "      <th>3</th>\n",
       "      <td>Data/12k_DE/B021_1.mat</td>\n",
       "      <td>[0.23000814371257486, 0.18858718562874252, -0....</td>\n",
       "      <td>B</td>\n",
       "    </tr>\n",
       "    <tr>\n",
       "      <th>4</th>\n",
       "      <td>Data/12k_DE/IR014_2.mat</td>\n",
       "      <td>[-0.02663936127744511, 0.02647692614770459, 0....</td>\n",
       "      <td>IR</td>\n",
       "    </tr>\n",
       "    <tr>\n",
       "      <th>...</th>\n",
       "      <td>...</td>\n",
       "      <td>...</td>\n",
       "      <td>...</td>\n",
       "    </tr>\n",
       "    <tr>\n",
       "      <th>59</th>\n",
       "      <td>Data/12k_DE/OR007@12_1.mat</td>\n",
       "      <td>[-0.10623257485029941, 0.05246654690618762, 0....</td>\n",
       "      <td>OR</td>\n",
       "    </tr>\n",
       "    <tr>\n",
       "      <th>60</th>\n",
       "      <td>Data/12k_DE/B014_1.mat</td>\n",
       "      <td>[0.005522794411177645, -0.10379604790419161, -...</td>\n",
       "      <td>B</td>\n",
       "    </tr>\n",
       "    <tr>\n",
       "      <th>61</th>\n",
       "      <td>Data/12k_DE/OR021@12_3.mat</td>\n",
       "      <td>[0.04507574850299401, 0.11776546906187624, 0.0...</td>\n",
       "      <td>OR</td>\n",
       "    </tr>\n",
       "    <tr>\n",
       "      <th>62</th>\n",
       "      <td>Data/12k_DE/Normal_3.mat</td>\n",
       "      <td>[0.014603076923076923, 0.05444861538461539, 0....</td>\n",
       "      <td>N</td>\n",
       "    </tr>\n",
       "    <tr>\n",
       "      <th>63</th>\n",
       "      <td>Data/12k_DE/B007_2.mat</td>\n",
       "      <td>[-0.3144744111776447, 0.12198878243512974, 0.3...</td>\n",
       "      <td>B</td>\n",
       "    </tr>\n",
       "  </tbody>\n",
       "</table>\n",
       "<p>64 rows × 3 columns</p>\n",
       "</div>"
      ],
      "text/plain": [
       "                      filename  \\\n",
       "0    Data/12k_DE/OR007@3_0.mat   \n",
       "1      Data/12k_DE/IR007_0.mat   \n",
       "2      Data/12k_DE/IR021_0.mat   \n",
       "3       Data/12k_DE/B021_1.mat   \n",
       "4      Data/12k_DE/IR014_2.mat   \n",
       "..                         ...   \n",
       "59  Data/12k_DE/OR007@12_1.mat   \n",
       "60      Data/12k_DE/B014_1.mat   \n",
       "61  Data/12k_DE/OR021@12_3.mat   \n",
       "62    Data/12k_DE/Normal_3.mat   \n",
       "63      Data/12k_DE/B007_2.mat   \n",
       "\n",
       "                                              DE_time label  \n",
       "0   [-0.16933862275449102, -0.04060878243512974, 0...    OR  \n",
       "1   [-0.08300435129740519, -0.19573433133732535, 0...    IR  \n",
       "2   [1.1894312375249503, -0.17786646706586826, -0....    IR  \n",
       "3   [0.23000814371257486, 0.18858718562874252, -0....     B  \n",
       "4   [-0.02663936127744511, 0.02647692614770459, 0....    IR  \n",
       "..                                                ...   ...  \n",
       "59  [-0.10623257485029941, 0.05246654690618762, 0....    OR  \n",
       "60  [0.005522794411177645, -0.10379604790419161, -...     B  \n",
       "61  [0.04507574850299401, 0.11776546906187624, 0.0...    OR  \n",
       "62  [0.014603076923076923, 0.05444861538461539, 0....     N  \n",
       "63  [-0.3144744111776447, 0.12198878243512974, 0.3...     B  \n",
       "\n",
       "[64 rows x 3 columns]"
      ]
     },
     "execution_count": 18,
     "metadata": {},
     "output_type": "execute_result"
    }
   ],
   "source": [
    "df"
   ]
  },
  {
   "cell_type": "code",
   "execution_count": 19,
   "metadata": {},
   "outputs": [],
   "source": [
    "n_sample_points = []\n",
    "for i in range(df.shape[0]):\n",
    "        n_sample_points.append(len(df.iloc[i,1]))\n",
    "        #print(n_sample_points)\n",
    "n_sample_points = np.transpose(n_sample_points)"
   ]
  },
  {
   "cell_type": "code",
   "execution_count": 20,
   "metadata": {},
   "outputs": [
    {
     "data": {
      "text/plain": [
       "array([122281, 121265, 122136, 121701, 121846, 121410, 121351, 121846,\n",
       "       121351, 121556, 121846, 122136, 122136, 120984, 122136, 121991,\n",
       "       121846, 483903, 122716, 121991, 122136, 122281, 485063, 121991,\n",
       "       122426, 121556, 121846, 121991, 121991, 122917, 120801, 122281,\n",
       "       243938, 120984, 121410, 121351, 122426, 122281, 122571, 121556,\n",
       "       121846, 121991, 121991, 121701, 121991, 120801, 122136, 121991,\n",
       "       122281, 121846, 122281, 121846, 121535, 122426, 122571, 122136,\n",
       "       121701, 122136, 121846, 121991, 122136, 121701, 485643, 121556])"
      ]
     },
     "execution_count": 20,
     "metadata": {},
     "output_type": "execute_result"
    }
   ],
   "source": [
    "n_sample_points"
   ]
  },
  {
   "cell_type": "code",
   "execution_count": 21,
   "metadata": {},
   "outputs": [],
   "source": [
    "segment_length = 2400 # The length of the window used to take sub-arrays from each file\n",
    "step_length = 300 # the amount the window moves along the sub-array"
   ]
  },
  {
   "cell_type": "code",
   "execution_count": 22,
   "metadata": {},
   "outputs": [],
   "source": [
    "nmin1_sample_points = n_sample_points - segment_length\n",
    "nmin1_remainder = nmin1_sample_points % step_length\n",
    "nmin1_sample_points = nmin1_sample_points - nmin1_remainder\n",
    "nminrem_sample_points = n_sample_points - nmin1_remainder\n",
    "n_splits = nmin1_sample_points / step_length\n",
    "\n",
    "splits = []\n",
    "split_range = []\n",
    "for i in n_splits:\n",
    "    val = int(i+1)\n",
    "    s_range = range(0, val, 1)\n",
    "    split_range.append(s_range)\n",
    "    \n",
    "num_seq = []\n",
    "num_seq += range(0, len(n_splits), 1)\n",
    "\n"
   ]
  },
  {
   "cell_type": "code",
   "execution_count": 23,
   "metadata": {},
   "outputs": [
    {
     "data": {
      "text/plain": [
       "array([119700, 118800, 119700, 119100, 119400, 118800, 118800, 119400,\n",
       "       118800, 119100, 119400, 119700, 119700, 118500, 119700, 119400,\n",
       "       119400, 481500, 120300, 119400, 119700, 119700, 482400, 119400,\n",
       "       120000, 119100, 119400, 119400, 119400, 120300, 118200, 119700,\n",
       "       241500, 118500, 118800, 118800, 120000, 119700, 120000, 119100,\n",
       "       119400, 119400, 119400, 119100, 119400, 118200, 119700, 119400,\n",
       "       119700, 119400, 119700, 119400, 119100, 120000, 120000, 119700,\n",
       "       119100, 119700, 119400, 119400, 119700, 119100, 483000, 119100])"
      ]
     },
     "execution_count": 23,
     "metadata": {},
     "output_type": "execute_result"
    }
   ],
   "source": [
    "nmin1_sample_points"
   ]
  },
  {
   "cell_type": "code",
   "execution_count": 24,
   "metadata": {},
   "outputs": [
    {
     "data": {
      "text/plain": [
       "array([181,  65,  36, 201,  46, 210, 151,  46, 151,  56,  46,  36,  36,\n",
       "        84,  36, 191,  46,   3,  16, 191,  36, 181, 263, 191,  26,  56,\n",
       "        46, 191, 191, 217, 201, 181,  38,  84, 210, 151,  26, 181, 171,\n",
       "        56,  46, 191, 191, 201, 191, 201,  36, 191, 181,  46, 181,  46,\n",
       "        35,  26, 171,  36, 201,  36,  46, 191,  36, 201, 243,  56])"
      ]
     },
     "execution_count": 24,
     "metadata": {},
     "output_type": "execute_result"
    }
   ],
   "source": [
    "nmin1_remainder"
   ]
  },
  {
   "cell_type": "code",
   "execution_count": 25,
   "metadata": {},
   "outputs": [
    {
     "data": {
      "text/plain": [
       "array([122100, 121200, 122100, 121500, 121800, 121200, 121200, 121800,\n",
       "       121200, 121500, 121800, 122100, 122100, 120900, 122100, 121800,\n",
       "       121800, 483900, 122700, 121800, 122100, 122100, 484800, 121800,\n",
       "       122400, 121500, 121800, 121800, 121800, 122700, 120600, 122100,\n",
       "       243900, 120900, 121200, 121200, 122400, 122100, 122400, 121500,\n",
       "       121800, 121800, 121800, 121500, 121800, 120600, 122100, 121800,\n",
       "       122100, 121800, 122100, 121800, 121500, 122400, 122400, 122100,\n",
       "       121500, 122100, 121800, 121800, 122100, 121500, 485400, 121500])"
      ]
     },
     "execution_count": 25,
     "metadata": {},
     "output_type": "execute_result"
    }
   ],
   "source": [
    "nminrem_sample_points"
   ]
  },
  {
   "cell_type": "code",
   "execution_count": 26,
   "metadata": {},
   "outputs": [
    {
     "name": "stdout",
     "output_type": "stream",
     "text": [
      "(64,) 64\n"
     ]
    },
    {
     "data": {
      "text/plain": [
       "array([ 399.,  396.,  399.,  397.,  398.,  396.,  396.,  398.,  396.,\n",
       "        397.,  398.,  399.,  399.,  395.,  399.,  398.,  398., 1605.,\n",
       "        401.,  398.,  399.,  399., 1608.,  398.,  400.,  397.,  398.,\n",
       "        398.,  398.,  401.,  394.,  399.,  805.,  395.,  396.,  396.,\n",
       "        400.,  399.,  400.,  397.,  398.,  398.,  398.,  397.,  398.,\n",
       "        394.,  399.,  398.,  399.,  398.,  399.,  398.,  397.,  400.,\n",
       "        400.,  399.,  397.,  399.,  398.,  398.,  399.,  397., 1610.,\n",
       "        397.])"
      ]
     },
     "execution_count": 26,
     "metadata": {},
     "output_type": "execute_result"
    }
   ],
   "source": [
    "print(n_splits.shape, len(n_splits))\n",
    "n_splits"
   ]
  },
  {
   "cell_type": "code",
   "execution_count": 27,
   "metadata": {},
   "outputs": [],
   "source": [
    "num_seq = []\n",
    "num_seq += range(0, len(n_splits), 1)"
   ]
  },
  {
   "cell_type": "code",
   "execution_count": 28,
   "metadata": {},
   "outputs": [
    {
     "data": {
      "text/plain": [
       "range(0, 400)"
      ]
     },
     "execution_count": 28,
     "metadata": {},
     "output_type": "execute_result"
    }
   ],
   "source": [
    "split_range[0]"
   ]
  },
  {
   "cell_type": "code",
   "execution_count": 29,
   "metadata": {},
   "outputs": [],
   "source": [
    "for i in num_seq[0:2]:\n",
    "    split_range_list = split_range[i]\n",
    "    for segment in list(split_range_list):\n",
    "        win_start = 0 + (step_length * segment)\n",
    "        win_end = segment_length + (step_length * segment)\n",
    "        #print(win_start, ':', win_end)\n",
    "    #print('\\n')"
   ]
  },
  {
   "cell_type": "markdown",
   "metadata": {},
   "source": [
    "df_output"
   ]
  },
  {
   "cell_type": "markdown",
   "metadata": {},
   "source": [
    "map_label = {'N':0, 'B':1, 'IR':2, 'OR':3}\n",
    "df_output['label'] = df_output['label'].map(map_label)"
   ]
  },
  {
   "cell_type": "markdown",
   "metadata": {},
   "source": [
    "df_output"
   ]
  },
  {
   "cell_type": "markdown",
   "metadata": {},
   "source": [
    "find a way to add in overlapping samples\n",
    "\n",
    "Number of windows should be able to be found by ((n_input_samples - window_size) - ((n_input_samples - window_size) % step) / step)"
   ]
  },
  {
   "cell_type": "markdown",
   "metadata": {},
   "source": [
    "segment_length = 2400 # The length of the window used to take sub-arrays from each file\n",
    "step_length = 300 # the amount the window moves along the sub-array"
   ]
  },
  {
   "cell_type": "markdown",
   "metadata": {},
   "source": [
    "# Finished Function for Overlapping Window Split of Sequences\n",
    "\n",
    "```python\n",
    "def divide_signal(df, segment_length, step_length):\n",
    "    n_sample_points = []\n",
    "    splits = []\n",
    "    split_range = []\n",
    "    num_seq = []\n",
    "    for i in range(df.shape[0]):\n",
    "        n_sample_points.append(len(df.iloc[i,1]))\n",
    "    n_sample_points = cp.transpose(n_sample_points)\n",
    "    \n",
    "    nmin1_sample_points = n_sample_points - segment_length\n",
    "    nmin1_remainder = nmin1_sample_points % step_length\n",
    "    nmin1_sample_points = nmin1_sample_points - nmin1_remainder\n",
    "    nminrem_sample_points = n_sample_points - nmin1_remainder\n",
    "    n_splits = nmin1_sample_points / step_length\n",
    "\n",
    "\n",
    "    for i in n_splits:\n",
    "        val = int(i+1)\n",
    "        s_range = range(0, val, 1)\n",
    "        split_range.append(s_range)\n",
    "    \n",
    "    \n",
    "    num_seq += range(0, len(n_splits), 1)\n",
    "    \n",
    "    \n",
    "    dic = {}\n",
    "    idx = 0\n",
    "    for i in num_seq:\n",
    "        split_range_list = split_range[i]\n",
    "        for segment in list(split_range_list):\n",
    "            win_start = 0 + (step_length * segment)\n",
    "            win_end = segment_length + (step_length * segment)\n",
    "            dic[idx] = {\n",
    "                'signal': df.iloc[i,1][win_start:win_end], # [0 + (step_length * (segment - 1)):segment_length + (step_length * segment)], \n",
    "                'label': df.iloc[i,2],\n",
    "            }\n",
    "            idx += 1\n",
    "        df_tmp = pd.DataFrame.from_dict(dic,orient='index')\n",
    "        df_output = pd.concat(\n",
    "            [df_tmp[['label']], \n",
    "             pd.DataFrame(cp.vstack(df_tmp[\"signal\"].values))\n",
    "            ], \n",
    "            axis=1 )\n",
    "    return df_output\n",
    "```"
   ]
  },
  {
   "cell_type": "code",
   "execution_count": 30,
   "metadata": {},
   "outputs": [],
   "source": [
    "# Test\n",
    "segment_length = 2400\n",
    "step_size = 300\n",
    "df_out = get_df_all(DE_path, segment_length=segment_length, step_size=step_size)"
   ]
  },
  {
   "cell_type": "code",
   "execution_count": 31,
   "metadata": {},
   "outputs": [
    {
     "data": {
      "text/html": [
       "<div>\n",
       "<style scoped>\n",
       "    .dataframe tbody tr th:only-of-type {\n",
       "        vertical-align: middle;\n",
       "    }\n",
       "\n",
       "    .dataframe tbody tr th {\n",
       "        vertical-align: top;\n",
       "    }\n",
       "\n",
       "    .dataframe thead th {\n",
       "        text-align: right;\n",
       "    }\n",
       "</style>\n",
       "<table border=\"1\" class=\"dataframe\">\n",
       "  <thead>\n",
       "    <tr style=\"text-align: right;\">\n",
       "      <th></th>\n",
       "      <th>label</th>\n",
       "      <th>0</th>\n",
       "      <th>1</th>\n",
       "      <th>2</th>\n",
       "      <th>3</th>\n",
       "      <th>4</th>\n",
       "      <th>5</th>\n",
       "      <th>6</th>\n",
       "      <th>7</th>\n",
       "      <th>8</th>\n",
       "      <th>...</th>\n",
       "      <th>2390</th>\n",
       "      <th>2391</th>\n",
       "      <th>2392</th>\n",
       "      <th>2393</th>\n",
       "      <th>2394</th>\n",
       "      <th>2395</th>\n",
       "      <th>2396</th>\n",
       "      <th>2397</th>\n",
       "      <th>2398</th>\n",
       "      <th>2399</th>\n",
       "    </tr>\n",
       "  </thead>\n",
       "  <tbody>\n",
       "    <tr>\n",
       "      <th>16590</th>\n",
       "      <td>3</td>\n",
       "      <td>-0.529539</td>\n",
       "      <td>-0.856439</td>\n",
       "      <td>0.570959</td>\n",
       "      <td>0.779283</td>\n",
       "      <td>-0.258678</td>\n",
       "      <td>-0.190861</td>\n",
       "      <td>0.419895</td>\n",
       "      <td>0.213602</td>\n",
       "      <td>-0.433702</td>\n",
       "      <td>...</td>\n",
       "      <td>-0.220100</td>\n",
       "      <td>1.240192</td>\n",
       "      <td>-0.866998</td>\n",
       "      <td>-0.529539</td>\n",
       "      <td>1.144355</td>\n",
       "      <td>-0.632279</td>\n",
       "      <td>-1.174812</td>\n",
       "      <td>1.370140</td>\n",
       "      <td>0.858876</td>\n",
       "      <td>-1.596331</td>\n",
       "    </tr>\n",
       "    <tr>\n",
       "      <th>16591</th>\n",
       "      <td>3</td>\n",
       "      <td>0.008122</td>\n",
       "      <td>-0.097867</td>\n",
       "      <td>0.002437</td>\n",
       "      <td>0.181115</td>\n",
       "      <td>0.345175</td>\n",
       "      <td>-0.063350</td>\n",
       "      <td>-0.107207</td>\n",
       "      <td>0.209947</td>\n",
       "      <td>0.151065</td>\n",
       "      <td>...</td>\n",
       "      <td>-0.210760</td>\n",
       "      <td>0.118984</td>\n",
       "      <td>0.057664</td>\n",
       "      <td>-0.168933</td>\n",
       "      <td>-0.220912</td>\n",
       "      <td>0.032487</td>\n",
       "      <td>-0.008122</td>\n",
       "      <td>-0.174618</td>\n",
       "      <td>-0.034517</td>\n",
       "      <td>0.150252</td>\n",
       "    </tr>\n",
       "    <tr>\n",
       "      <th>16592</th>\n",
       "      <td>3</td>\n",
       "      <td>0.349236</td>\n",
       "      <td>-0.311063</td>\n",
       "      <td>-0.086903</td>\n",
       "      <td>0.194110</td>\n",
       "      <td>0.038172</td>\n",
       "      <td>-0.184364</td>\n",
       "      <td>-0.131572</td>\n",
       "      <td>0.194110</td>\n",
       "      <td>0.051573</td>\n",
       "      <td>...</td>\n",
       "      <td>0.119390</td>\n",
       "      <td>0.239592</td>\n",
       "      <td>-0.080405</td>\n",
       "      <td>-0.347205</td>\n",
       "      <td>0.097055</td>\n",
       "      <td>0.257866</td>\n",
       "      <td>-0.124669</td>\n",
       "      <td>-0.309033</td>\n",
       "      <td>0.147004</td>\n",
       "      <td>0.260302</td>\n",
       "    </tr>\n",
       "    <tr>\n",
       "      <th>16593</th>\n",
       "      <td>3</td>\n",
       "      <td>-0.476747</td>\n",
       "      <td>1.465977</td>\n",
       "      <td>-0.126293</td>\n",
       "      <td>-0.763851</td>\n",
       "      <td>0.631467</td>\n",
       "      <td>-0.030863</td>\n",
       "      <td>-0.278170</td>\n",
       "      <td>0.303348</td>\n",
       "      <td>0.276546</td>\n",
       "      <td>...</td>\n",
       "      <td>-0.118172</td>\n",
       "      <td>0.328525</td>\n",
       "      <td>0.233094</td>\n",
       "      <td>-1.061920</td>\n",
       "      <td>-0.055228</td>\n",
       "      <td>1.698259</td>\n",
       "      <td>-0.260302</td>\n",
       "      <td>-1.949628</td>\n",
       "      <td>1.176030</td>\n",
       "      <td>1.625976</td>\n",
       "    </tr>\n",
       "    <tr>\n",
       "      <th>16594</th>\n",
       "      <td>3</td>\n",
       "      <td>-0.200607</td>\n",
       "      <td>0.169745</td>\n",
       "      <td>0.351672</td>\n",
       "      <td>-0.174618</td>\n",
       "      <td>-0.332586</td>\n",
       "      <td>0.203044</td>\n",
       "      <td>0.153907</td>\n",
       "      <td>-0.276546</td>\n",
       "      <td>-0.170963</td>\n",
       "      <td>...</td>\n",
       "      <td>-0.197765</td>\n",
       "      <td>0.042233</td>\n",
       "      <td>-0.023553</td>\n",
       "      <td>-0.200201</td>\n",
       "      <td>-0.080811</td>\n",
       "      <td>0.214820</td>\n",
       "      <td>0.180709</td>\n",
       "      <td>-0.179085</td>\n",
       "      <td>0.062131</td>\n",
       "      <td>0.351672</td>\n",
       "    </tr>\n",
       "  </tbody>\n",
       "</table>\n",
       "<p>5 rows × 2401 columns</p>\n",
       "</div>"
      ],
      "text/plain": [
       "       label         0         1         2         3         4         5  \\\n",
       "16590      3 -0.529539 -0.856439  0.570959  0.779283 -0.258678 -0.190861   \n",
       "16591      3  0.008122 -0.097867  0.002437  0.181115  0.345175 -0.063350   \n",
       "16592      3  0.349236 -0.311063 -0.086903  0.194110  0.038172 -0.184364   \n",
       "16593      3 -0.476747  1.465977 -0.126293 -0.763851  0.631467 -0.030863   \n",
       "16594      3 -0.200607  0.169745  0.351672 -0.174618 -0.332586  0.203044   \n",
       "\n",
       "              6         7         8  ...      2390      2391      2392  \\\n",
       "16590  0.419895  0.213602 -0.433702  ... -0.220100  1.240192 -0.866998   \n",
       "16591 -0.107207  0.209947  0.151065  ... -0.210760  0.118984  0.057664   \n",
       "16592 -0.131572  0.194110  0.051573  ...  0.119390  0.239592 -0.080405   \n",
       "16593 -0.278170  0.303348  0.276546  ... -0.118172  0.328525  0.233094   \n",
       "16594  0.153907 -0.276546 -0.170963  ... -0.197765  0.042233 -0.023553   \n",
       "\n",
       "           2393      2394      2395      2396      2397      2398      2399  \n",
       "16590 -0.529539  1.144355 -0.632279 -1.174812  1.370140  0.858876 -1.596331  \n",
       "16591 -0.168933 -0.220912  0.032487 -0.008122 -0.174618 -0.034517  0.150252  \n",
       "16592 -0.347205  0.097055  0.257866 -0.124669 -0.309033  0.147004  0.260302  \n",
       "16593 -1.061920 -0.055228  1.698259 -0.260302 -1.949628  1.176030  1.625976  \n",
       "16594 -0.200201 -0.080811  0.214820  0.180709 -0.179085  0.062131  0.351672  \n",
       "\n",
       "[5 rows x 2401 columns]"
      ]
     },
     "execution_count": 31,
     "metadata": {},
     "output_type": "execute_result"
    }
   ],
   "source": [
    "df_out[16590:16595]"
   ]
  },
  {
   "cell_type": "code",
   "execution_count": 32,
   "metadata": {},
   "outputs": [
    {
     "data": {
      "text/html": [
       "<div>\n",
       "<style scoped>\n",
       "    .dataframe tbody tr th:only-of-type {\n",
       "        vertical-align: middle;\n",
       "    }\n",
       "\n",
       "    .dataframe tbody tr th {\n",
       "        vertical-align: top;\n",
       "    }\n",
       "\n",
       "    .dataframe thead th {\n",
       "        text-align: right;\n",
       "    }\n",
       "</style>\n",
       "<table border=\"1\" class=\"dataframe\">\n",
       "  <thead>\n",
       "    <tr style=\"text-align: right;\">\n",
       "      <th></th>\n",
       "      <th>filename</th>\n",
       "      <th>DE_time</th>\n",
       "      <th>label</th>\n",
       "    </tr>\n",
       "  </thead>\n",
       "  <tbody>\n",
       "    <tr>\n",
       "      <th>0</th>\n",
       "      <td>Data/12k_DE/OR007@3_0.mat</td>\n",
       "      <td>[-0.16933862275449102, -0.04060878243512974, 0...</td>\n",
       "      <td>OR</td>\n",
       "    </tr>\n",
       "    <tr>\n",
       "      <th>1</th>\n",
       "      <td>Data/12k_DE/IR007_0.mat</td>\n",
       "      <td>[-0.08300435129740519, -0.19573433133732535, 0...</td>\n",
       "      <td>IR</td>\n",
       "    </tr>\n",
       "    <tr>\n",
       "      <th>2</th>\n",
       "      <td>Data/12k_DE/IR021_0.mat</td>\n",
       "      <td>[1.1894312375249503, -0.17786646706586826, -0....</td>\n",
       "      <td>IR</td>\n",
       "    </tr>\n",
       "    <tr>\n",
       "      <th>3</th>\n",
       "      <td>Data/12k_DE/B021_1.mat</td>\n",
       "      <td>[0.23000814371257486, 0.18858718562874252, -0....</td>\n",
       "      <td>B</td>\n",
       "    </tr>\n",
       "    <tr>\n",
       "      <th>4</th>\n",
       "      <td>Data/12k_DE/IR014_2.mat</td>\n",
       "      <td>[-0.02663936127744511, 0.02647692614770459, 0....</td>\n",
       "      <td>IR</td>\n",
       "    </tr>\n",
       "    <tr>\n",
       "      <th>...</th>\n",
       "      <td>...</td>\n",
       "      <td>...</td>\n",
       "      <td>...</td>\n",
       "    </tr>\n",
       "    <tr>\n",
       "      <th>59</th>\n",
       "      <td>Data/12k_DE/OR007@12_1.mat</td>\n",
       "      <td>[-0.10623257485029941, 0.05246654690618762, 0....</td>\n",
       "      <td>OR</td>\n",
       "    </tr>\n",
       "    <tr>\n",
       "      <th>60</th>\n",
       "      <td>Data/12k_DE/B014_1.mat</td>\n",
       "      <td>[0.005522794411177645, -0.10379604790419161, -...</td>\n",
       "      <td>B</td>\n",
       "    </tr>\n",
       "    <tr>\n",
       "      <th>61</th>\n",
       "      <td>Data/12k_DE/OR021@12_3.mat</td>\n",
       "      <td>[0.04507574850299401, 0.11776546906187624, 0.0...</td>\n",
       "      <td>OR</td>\n",
       "    </tr>\n",
       "    <tr>\n",
       "      <th>62</th>\n",
       "      <td>Data/12k_DE/Normal_3.mat</td>\n",
       "      <td>[0.014603076923076923, 0.05444861538461539, 0....</td>\n",
       "      <td>N</td>\n",
       "    </tr>\n",
       "    <tr>\n",
       "      <th>63</th>\n",
       "      <td>Data/12k_DE/B007_2.mat</td>\n",
       "      <td>[-0.3144744111776447, 0.12198878243512974, 0.3...</td>\n",
       "      <td>B</td>\n",
       "    </tr>\n",
       "  </tbody>\n",
       "</table>\n",
       "<p>64 rows × 3 columns</p>\n",
       "</div>"
      ],
      "text/plain": [
       "                      filename  \\\n",
       "0    Data/12k_DE/OR007@3_0.mat   \n",
       "1      Data/12k_DE/IR007_0.mat   \n",
       "2      Data/12k_DE/IR021_0.mat   \n",
       "3       Data/12k_DE/B021_1.mat   \n",
       "4      Data/12k_DE/IR014_2.mat   \n",
       "..                         ...   \n",
       "59  Data/12k_DE/OR007@12_1.mat   \n",
       "60      Data/12k_DE/B014_1.mat   \n",
       "61  Data/12k_DE/OR021@12_3.mat   \n",
       "62    Data/12k_DE/Normal_3.mat   \n",
       "63      Data/12k_DE/B007_2.mat   \n",
       "\n",
       "                                              DE_time label  \n",
       "0   [-0.16933862275449102, -0.04060878243512974, 0...    OR  \n",
       "1   [-0.08300435129740519, -0.19573433133732535, 0...    IR  \n",
       "2   [1.1894312375249503, -0.17786646706586826, -0....    IR  \n",
       "3   [0.23000814371257486, 0.18858718562874252, -0....     B  \n",
       "4   [-0.02663936127744511, 0.02647692614770459, 0....    IR  \n",
       "..                                                ...   ...  \n",
       "59  [-0.10623257485029941, 0.05246654690618762, 0....    OR  \n",
       "60  [0.005522794411177645, -0.10379604790419161, -...     B  \n",
       "61  [0.04507574850299401, 0.11776546906187624, 0.0...    OR  \n",
       "62  [0.014603076923076923, 0.05444861538461539, 0....     N  \n",
       "63  [-0.3144744111776447, 0.12198878243512974, 0.3...     B  \n",
       "\n",
       "[64 rows x 3 columns]"
      ]
     },
     "execution_count": 32,
     "metadata": {},
     "output_type": "execute_result"
    }
   ],
   "source": [
    "df"
   ]
  },
  {
   "cell_type": "code",
   "execution_count": 33,
   "metadata": {},
   "outputs": [],
   "source": [
    "features = df_out.columns[1:]\n",
    "target = 'label'\n",
    "\n",
    "split_perc = 0.2\n",
    "\n",
    "X_train, y_train = df_splitter(df_out, split_perc, target)"
   ]
  },
  {
   "cell_type": "code",
   "execution_count": 34,
   "metadata": {},
   "outputs": [
    {
     "data": {
      "text/plain": [
       "(23654, 2400)"
      ]
     },
     "execution_count": 34,
     "metadata": {},
     "output_type": "execute_result"
    }
   ],
   "source": [
    "X_train.shape"
   ]
  },
  {
   "cell_type": "code",
   "execution_count": 35,
   "metadata": {},
   "outputs": [
    {
     "data": {
      "text/plain": [
       "23654"
      ]
     },
     "execution_count": 35,
     "metadata": {},
     "output_type": "execute_result"
    }
   ],
   "source": [
    "len(X_train)"
   ]
  },
  {
   "cell_type": "code",
   "execution_count": 36,
   "metadata": {},
   "outputs": [
    {
     "data": {
      "text/plain": [
       "(23654, 1)"
      ]
     },
     "execution_count": 36,
     "metadata": {},
     "output_type": "execute_result"
    }
   ],
   "source": [
    "y_train.shape"
   ]
  },
  {
   "cell_type": "code",
   "execution_count": 37,
   "metadata": {},
   "outputs": [
    {
     "data": {
      "text/html": [
       "<div>\n",
       "<style scoped>\n",
       "    .dataframe tbody tr th:only-of-type {\n",
       "        vertical-align: middle;\n",
       "    }\n",
       "\n",
       "    .dataframe tbody tr th {\n",
       "        vertical-align: top;\n",
       "    }\n",
       "\n",
       "    .dataframe thead th {\n",
       "        text-align: right;\n",
       "    }\n",
       "</style>\n",
       "<table border=\"1\" class=\"dataframe\">\n",
       "  <thead>\n",
       "    <tr style=\"text-align: right;\">\n",
       "      <th></th>\n",
       "      <th>0</th>\n",
       "      <th>1</th>\n",
       "      <th>2</th>\n",
       "      <th>3</th>\n",
       "      <th>4</th>\n",
       "      <th>5</th>\n",
       "      <th>6</th>\n",
       "      <th>7</th>\n",
       "      <th>8</th>\n",
       "      <th>9</th>\n",
       "      <th>...</th>\n",
       "      <th>2390</th>\n",
       "      <th>2391</th>\n",
       "      <th>2392</th>\n",
       "      <th>2393</th>\n",
       "      <th>2394</th>\n",
       "      <th>2395</th>\n",
       "      <th>2396</th>\n",
       "      <th>2397</th>\n",
       "      <th>2398</th>\n",
       "      <th>2399</th>\n",
       "    </tr>\n",
       "  </thead>\n",
       "  <tbody>\n",
       "    <tr>\n",
       "      <th>24651</th>\n",
       "      <td>0.001299</td>\n",
       "      <td>0.166821</td>\n",
       "      <td>-0.198008</td>\n",
       "      <td>-0.277277</td>\n",
       "      <td>0.148303</td>\n",
       "      <td>0.188262</td>\n",
       "      <td>-0.171531</td>\n",
       "      <td>-0.095674</td>\n",
       "      <td>0.168445</td>\n",
       "      <td>-0.021441</td>\n",
       "      <td>...</td>\n",
       "      <td>0.051167</td>\n",
       "      <td>0.057989</td>\n",
       "      <td>0.019167</td>\n",
       "      <td>0.029888</td>\n",
       "      <td>0.070984</td>\n",
       "      <td>0.021279</td>\n",
       "      <td>0.051330</td>\n",
       "      <td>0.088527</td>\n",
       "      <td>-0.127674</td>\n",
       "      <td>-0.175268</td>\n",
       "    </tr>\n",
       "    <tr>\n",
       "      <th>16874</th>\n",
       "      <td>0.435790</td>\n",
       "      <td>-0.914711</td>\n",
       "      <td>-1.127113</td>\n",
       "      <td>-0.625405</td>\n",
       "      <td>-0.466307</td>\n",
       "      <td>-0.909015</td>\n",
       "      <td>-0.958656</td>\n",
       "      <td>-0.224202</td>\n",
       "      <td>0.142822</td>\n",
       "      <td>0.229085</td>\n",
       "      <td>...</td>\n",
       "      <td>-0.361734</td>\n",
       "      <td>-0.297851</td>\n",
       "      <td>-0.839435</td>\n",
       "      <td>-0.747475</td>\n",
       "      <td>0.787351</td>\n",
       "      <td>2.303461</td>\n",
       "      <td>1.966548</td>\n",
       "      <td>0.024414</td>\n",
       "      <td>-0.489908</td>\n",
       "      <td>1.301266</td>\n",
       "    </tr>\n",
       "    <tr>\n",
       "      <th>25876</th>\n",
       "      <td>-0.249825</td>\n",
       "      <td>-0.283449</td>\n",
       "      <td>-0.138557</td>\n",
       "      <td>0.189074</td>\n",
       "      <td>0.165034</td>\n",
       "      <td>0.090801</td>\n",
       "      <td>0.220749</td>\n",
       "      <td>0.310089</td>\n",
       "      <td>0.208079</td>\n",
       "      <td>-0.155126</td>\n",
       "      <td>...</td>\n",
       "      <td>-0.115329</td>\n",
       "      <td>-0.148791</td>\n",
       "      <td>-0.247226</td>\n",
       "      <td>-0.012508</td>\n",
       "      <td>0.077806</td>\n",
       "      <td>-0.261521</td>\n",
       "      <td>-0.337053</td>\n",
       "      <td>-0.010071</td>\n",
       "      <td>0.035573</td>\n",
       "      <td>-0.206617</td>\n",
       "    </tr>\n",
       "    <tr>\n",
       "      <th>25686</th>\n",
       "      <td>-0.377662</td>\n",
       "      <td>0.045157</td>\n",
       "      <td>0.663060</td>\n",
       "      <td>0.325682</td>\n",
       "      <td>0.044995</td>\n",
       "      <td>0.205318</td>\n",
       "      <td>0.219125</td>\n",
       "      <td>-0.164222</td>\n",
       "      <td>-0.319347</td>\n",
       "      <td>-0.266394</td>\n",
       "      <td>...</td>\n",
       "      <td>0.158537</td>\n",
       "      <td>0.083817</td>\n",
       "      <td>0.288972</td>\n",
       "      <td>0.226922</td>\n",
       "      <td>-0.040284</td>\n",
       "      <td>-0.216851</td>\n",
       "      <td>0.046294</td>\n",
       "      <td>0.222211</td>\n",
       "      <td>0.336728</td>\n",
       "      <td>0.058314</td>\n",
       "    </tr>\n",
       "    <tr>\n",
       "      <th>15281</th>\n",
       "      <td>0.081777</td>\n",
       "      <td>0.010222</td>\n",
       "      <td>-0.080734</td>\n",
       "      <td>-0.149994</td>\n",
       "      <td>-0.161677</td>\n",
       "      <td>-0.113487</td>\n",
       "      <td>-0.047564</td>\n",
       "      <td>0.022322</td>\n",
       "      <td>0.086367</td>\n",
       "      <td>0.128716</td>\n",
       "      <td>...</td>\n",
       "      <td>-0.051528</td>\n",
       "      <td>-0.011474</td>\n",
       "      <td>0.038802</td>\n",
       "      <td>0.074893</td>\n",
       "      <td>0.093668</td>\n",
       "      <td>0.094503</td>\n",
       "      <td>0.100553</td>\n",
       "      <td>0.092625</td>\n",
       "      <td>0.067174</td>\n",
       "      <td>0.014603</td>\n",
       "    </tr>\n",
       "    <tr>\n",
       "      <th>...</th>\n",
       "      <td>...</td>\n",
       "      <td>...</td>\n",
       "      <td>...</td>\n",
       "      <td>...</td>\n",
       "      <td>...</td>\n",
       "      <td>...</td>\n",
       "      <td>...</td>\n",
       "      <td>...</td>\n",
       "      <td>...</td>\n",
       "      <td>...</td>\n",
       "      <td>...</td>\n",
       "      <td>...</td>\n",
       "      <td>...</td>\n",
       "      <td>...</td>\n",
       "      <td>...</td>\n",
       "      <td>...</td>\n",
       "      <td>...</td>\n",
       "      <td>...</td>\n",
       "      <td>...</td>\n",
       "      <td>...</td>\n",
       "      <td>...</td>\n",
       "    </tr>\n",
       "    <tr>\n",
       "      <th>16008</th>\n",
       "      <td>1.336260</td>\n",
       "      <td>-1.719559</td>\n",
       "      <td>-1.242673</td>\n",
       "      <td>1.802567</td>\n",
       "      <td>2.371413</td>\n",
       "      <td>-1.688635</td>\n",
       "      <td>-3.161613</td>\n",
       "      <td>1.482744</td>\n",
       "      <td>3.783356</td>\n",
       "      <td>-1.080726</td>\n",
       "      <td>...</td>\n",
       "      <td>-1.368812</td>\n",
       "      <td>1.789546</td>\n",
       "      <td>2.086583</td>\n",
       "      <td>-1.466468</td>\n",
       "      <td>-2.953280</td>\n",
       "      <td>0.179850</td>\n",
       "      <td>2.678216</td>\n",
       "      <td>1.465654</td>\n",
       "      <td>-1.267900</td>\n",
       "      <td>-2.355137</td>\n",
       "    </tr>\n",
       "    <tr>\n",
       "      <th>10862</th>\n",
       "      <td>-0.038385</td>\n",
       "      <td>-0.021696</td>\n",
       "      <td>-0.027954</td>\n",
       "      <td>-0.049859</td>\n",
       "      <td>-0.065714</td>\n",
       "      <td>-0.038594</td>\n",
       "      <td>0.007927</td>\n",
       "      <td>0.050694</td>\n",
       "      <td>0.053823</td>\n",
       "      <td>0.011265</td>\n",
       "      <td>...</td>\n",
       "      <td>0.030041</td>\n",
       "      <td>0.023991</td>\n",
       "      <td>0.035882</td>\n",
       "      <td>0.016063</td>\n",
       "      <td>-0.031710</td>\n",
       "      <td>-0.106811</td>\n",
       "      <td>-0.166475</td>\n",
       "      <td>-0.167727</td>\n",
       "      <td>-0.120580</td>\n",
       "      <td>-0.054240</td>\n",
       "    </tr>\n",
       "    <tr>\n",
       "      <th>16660</th>\n",
       "      <td>0.224973</td>\n",
       "      <td>0.091370</td>\n",
       "      <td>0.000406</td>\n",
       "      <td>0.089339</td>\n",
       "      <td>0.192486</td>\n",
       "      <td>0.133603</td>\n",
       "      <td>-0.185988</td>\n",
       "      <td>-0.052385</td>\n",
       "      <td>0.046294</td>\n",
       "      <td>-0.036548</td>\n",
       "      <td>...</td>\n",
       "      <td>0.143755</td>\n",
       "      <td>-0.344362</td>\n",
       "      <td>0.102740</td>\n",
       "      <td>0.365885</td>\n",
       "      <td>-0.129948</td>\n",
       "      <td>-0.218881</td>\n",
       "      <td>0.158374</td>\n",
       "      <td>0.236343</td>\n",
       "      <td>-0.183146</td>\n",
       "      <td>-0.201420</td>\n",
       "    </tr>\n",
       "    <tr>\n",
       "      <th>19616</th>\n",
       "      <td>-0.115735</td>\n",
       "      <td>0.500706</td>\n",
       "      <td>0.244059</td>\n",
       "      <td>-0.296038</td>\n",
       "      <td>0.071878</td>\n",
       "      <td>0.317967</td>\n",
       "      <td>0.016650</td>\n",
       "      <td>-0.381723</td>\n",
       "      <td>-0.058883</td>\n",
       "      <td>0.259490</td>\n",
       "      <td>...</td>\n",
       "      <td>-0.396748</td>\n",
       "      <td>0.177866</td>\n",
       "      <td>0.447915</td>\n",
       "      <td>-0.259896</td>\n",
       "      <td>-0.428423</td>\n",
       "      <td>0.209947</td>\n",
       "      <td>0.350048</td>\n",
       "      <td>-0.214008</td>\n",
       "      <td>-0.251774</td>\n",
       "      <td>0.148222</td>\n",
       "    </tr>\n",
       "    <tr>\n",
       "      <th>7555</th>\n",
       "      <td>0.090956</td>\n",
       "      <td>0.053614</td>\n",
       "      <td>0.060707</td>\n",
       "      <td>0.087201</td>\n",
       "      <td>0.080526</td>\n",
       "      <td>0.045270</td>\n",
       "      <td>0.005215</td>\n",
       "      <td>-0.000209</td>\n",
       "      <td>0.044435</td>\n",
       "      <td>0.108897</td>\n",
       "      <td>...</td>\n",
       "      <td>0.099927</td>\n",
       "      <td>0.075519</td>\n",
       "      <td>-0.002295</td>\n",
       "      <td>-0.022948</td>\n",
       "      <td>0.006258</td>\n",
       "      <td>0.071346</td>\n",
       "      <td>0.127047</td>\n",
       "      <td>0.162303</td>\n",
       "      <td>0.155418</td>\n",
       "      <td>0.130176</td>\n",
       "    </tr>\n",
       "  </tbody>\n",
       "</table>\n",
       "<p>23654 rows × 2400 columns</p>\n",
       "</div>"
      ],
      "text/plain": [
       "           0         1         2         3         4         5         6     \\\n",
       "24651  0.001299  0.166821 -0.198008 -0.277277  0.148303  0.188262 -0.171531   \n",
       "16874  0.435790 -0.914711 -1.127113 -0.625405 -0.466307 -0.909015 -0.958656   \n",
       "25876 -0.249825 -0.283449 -0.138557  0.189074  0.165034  0.090801  0.220749   \n",
       "25686 -0.377662  0.045157  0.663060  0.325682  0.044995  0.205318  0.219125   \n",
       "15281  0.081777  0.010222 -0.080734 -0.149994 -0.161677 -0.113487 -0.047564   \n",
       "...         ...       ...       ...       ...       ...       ...       ...   \n",
       "16008  1.336260 -1.719559 -1.242673  1.802567  2.371413 -1.688635 -3.161613   \n",
       "10862 -0.038385 -0.021696 -0.027954 -0.049859 -0.065714 -0.038594  0.007927   \n",
       "16660  0.224973  0.091370  0.000406  0.089339  0.192486  0.133603 -0.185988   \n",
       "19616 -0.115735  0.500706  0.244059 -0.296038  0.071878  0.317967  0.016650   \n",
       "7555   0.090956  0.053614  0.060707  0.087201  0.080526  0.045270  0.005215   \n",
       "\n",
       "           7         8         9     ...      2390      2391      2392  \\\n",
       "24651 -0.095674  0.168445 -0.021441  ...  0.051167  0.057989  0.019167   \n",
       "16874 -0.224202  0.142822  0.229085  ... -0.361734 -0.297851 -0.839435   \n",
       "25876  0.310089  0.208079 -0.155126  ... -0.115329 -0.148791 -0.247226   \n",
       "25686 -0.164222 -0.319347 -0.266394  ...  0.158537  0.083817  0.288972   \n",
       "15281  0.022322  0.086367  0.128716  ... -0.051528 -0.011474  0.038802   \n",
       "...         ...       ...       ...  ...       ...       ...       ...   \n",
       "16008  1.482744  3.783356 -1.080726  ... -1.368812  1.789546  2.086583   \n",
       "10862  0.050694  0.053823  0.011265  ...  0.030041  0.023991  0.035882   \n",
       "16660 -0.052385  0.046294 -0.036548  ...  0.143755 -0.344362  0.102740   \n",
       "19616 -0.381723 -0.058883  0.259490  ... -0.396748  0.177866  0.447915   \n",
       "7555  -0.000209  0.044435  0.108897  ...  0.099927  0.075519 -0.002295   \n",
       "\n",
       "           2393      2394      2395      2396      2397      2398      2399  \n",
       "24651  0.029888  0.070984  0.021279  0.051330  0.088527 -0.127674 -0.175268  \n",
       "16874 -0.747475  0.787351  2.303461  1.966548  0.024414 -0.489908  1.301266  \n",
       "25876 -0.012508  0.077806 -0.261521 -0.337053 -0.010071  0.035573 -0.206617  \n",
       "25686  0.226922 -0.040284 -0.216851  0.046294  0.222211  0.336728  0.058314  \n",
       "15281  0.074893  0.093668  0.094503  0.100553  0.092625  0.067174  0.014603  \n",
       "...         ...       ...       ...       ...       ...       ...       ...  \n",
       "16008 -1.466468 -2.953280  0.179850  2.678216  1.465654 -1.267900 -2.355137  \n",
       "10862  0.016063 -0.031710 -0.106811 -0.166475 -0.167727 -0.120580 -0.054240  \n",
       "16660  0.365885 -0.129948 -0.218881  0.158374  0.236343 -0.183146 -0.201420  \n",
       "19616 -0.259896 -0.428423  0.209947  0.350048 -0.214008 -0.251774  0.148222  \n",
       "7555  -0.022948  0.006258  0.071346  0.127047  0.162303  0.155418  0.130176  \n",
       "\n",
       "[23654 rows x 2400 columns]"
      ]
     },
     "execution_count": 37,
     "metadata": {},
     "output_type": "execute_result"
    }
   ],
   "source": [
    "X_train"
   ]
  },
  {
   "cell_type": "code",
   "execution_count": 38,
   "metadata": {},
   "outputs": [
    {
     "data": {
      "text/plain": [
       "0       0.001299\n",
       "1       0.166821\n",
       "2      -0.198008\n",
       "3      -0.277277\n",
       "4       0.148303\n",
       "          ...   \n",
       "2395    0.021279\n",
       "2396    0.051330\n",
       "2397    0.088527\n",
       "2398   -0.127674\n",
       "2399   -0.175268\n",
       "Name: 24651, Length: 2400, dtype: float64"
      ]
     },
     "execution_count": 38,
     "metadata": {},
     "output_type": "execute_result"
    }
   ],
   "source": [
    "X_train.iloc[0,:]"
   ]
  },
  {
   "cell_type": "code",
   "execution_count": 39,
   "metadata": {},
   "outputs": [
    {
     "data": {
      "text/plain": [
       "label    1\n",
       "Name: 24651, dtype: int64"
      ]
     },
     "execution_count": 39,
     "metadata": {},
     "output_type": "execute_result"
    }
   ],
   "source": [
    "y_train.iloc[0]"
   ]
  },
  {
   "cell_type": "code",
   "execution_count": 40,
   "metadata": {},
   "outputs": [],
   "source": [
    "iter_range = [*range(0, len(X_train), 1)]\n",
    "X_t, y_t = [],[]\n",
    "for i in iter_range:\n",
    "    v = X_train.iloc[i,:].values\n",
    "    labels = y_train.iloc[i]\n",
    "    X_t.append(v)        \n",
    "    y_t.append(stats.mode(labels)[0][0])\n",
    "X_t = np.array(X_t).reshape(23654, 2400, 1)\n",
    "y_t = np.asarray(y_t).reshape(-1, 1)"
   ]
  },
  {
   "cell_type": "code",
   "execution_count": 41,
   "metadata": {},
   "outputs": [
    {
     "data": {
      "text/plain": [
       "(23654, 2400, 1)"
      ]
     },
     "execution_count": 41,
     "metadata": {},
     "output_type": "execute_result"
    }
   ],
   "source": [
    "X_t.shape"
   ]
  },
  {
   "cell_type": "code",
   "execution_count": 42,
   "metadata": {},
   "outputs": [
    {
     "data": {
      "text/plain": [
       "2400"
      ]
     },
     "execution_count": 42,
     "metadata": {},
     "output_type": "execute_result"
    }
   ],
   "source": [
    "check_x = X_t[0:1].shape[1]\n",
    "check_x"
   ]
  },
  {
   "cell_type": "code",
   "execution_count": 43,
   "metadata": {
    "tags": []
   },
   "outputs": [
    {
     "data": {
      "text/plain": [
       "array([[[ 1.29948104e-03],\n",
       "        [ 1.66820878e-01],\n",
       "        [-1.98008423e-01],\n",
       "        ...,\n",
       "        [ 8.85271457e-02],\n",
       "        [-1.27674012e-01],\n",
       "        [-1.75267505e-01]],\n",
       "\n",
       "       [[ 4.35789900e-01],\n",
       "        [-9.14711200e-01],\n",
       "        [-1.12711300e+00],\n",
       "        ...,\n",
       "        [ 2.44140000e-02],\n",
       "        [-4.89907600e-01],\n",
       "        [ 1.30126620e+00]],\n",
       "\n",
       "       [[-2.49825230e-01],\n",
       "        [-2.83449301e-01],\n",
       "        [-1.38557166e-01],\n",
       "        ...,\n",
       "        [-1.00709780e-02],\n",
       "        [ 3.55732934e-02],\n",
       "        [-2.06617485e-01]],\n",
       "\n",
       "       ...,\n",
       "\n",
       "       [[ 2.24972655e-01],\n",
       "        [ 9.13697605e-02],\n",
       "        [ 4.06087824e-04],\n",
       "        ...,\n",
       "        [ 2.36343114e-01],\n",
       "        [-1.83145609e-01],\n",
       "        [-2.01419561e-01]],\n",
       "\n",
       "       [[-1.15735030e-01],\n",
       "        [ 5.00706287e-01],\n",
       "        [ 2.44058782e-01],\n",
       "        ...,\n",
       "        [-2.14008283e-01],\n",
       "        [-2.51774451e-01],\n",
       "        [ 1.48222056e-01]],\n",
       "\n",
       "       [[ 9.09563077e-02],\n",
       "        [ 5.36141538e-02],\n",
       "        [ 6.07070769e-02],\n",
       "        ...,\n",
       "        [ 1.62302769e-01],\n",
       "        [ 1.55418462e-01],\n",
       "        [ 1.30176000e-01]]])"
      ]
     },
     "execution_count": 43,
     "metadata": {},
     "output_type": "execute_result"
    }
   ],
   "source": [
    "X_t"
   ]
  },
  {
   "cell_type": "code",
   "execution_count": 44,
   "metadata": {
    "tags": []
   },
   "outputs": [
    {
     "data": {
      "text/plain": [
       "array([[1],\n",
       "       [2],\n",
       "       [3],\n",
       "       ...,\n",
       "       [3],\n",
       "       [3],\n",
       "       [0]])"
      ]
     },
     "execution_count": 44,
     "metadata": {},
     "output_type": "execute_result"
    }
   ],
   "source": [
    "y_t"
   ]
  },
  {
   "cell_type": "code",
   "execution_count": 45,
   "metadata": {},
   "outputs": [],
   "source": [
    "from sklearn.preprocessing import OneHotEncoder\n",
    "enc = OneHotEncoder(handle_unknown='ignore', sparse=False)\n",
    "\n",
    "enc = enc.fit(y_t)\n",
    "\n",
    "y_train = enc.transform(y_t)"
   ]
  },
  {
   "cell_type": "code",
   "execution_count": 46,
   "metadata": {},
   "outputs": [
    {
     "data": {
      "text/plain": [
       "(23654, 4)"
      ]
     },
     "execution_count": 46,
     "metadata": {},
     "output_type": "execute_result"
    }
   ],
   "source": [
    "y_train.shape"
   ]
  },
  {
   "cell_type": "markdown",
   "metadata": {},
   "source": [
    "# TCN\n",
    "## Finished with data processing, now need to run through model. \n",
    "\n",
    "* Find a way to insert as batches. The batches should run in the following process.\n",
    "    1. For the `batch_size` loop\n",
    "        * take the first sequence `X_t[i]`\n",
    "        * for the length of `X_t[i]`\n",
    "            * \n"
   ]
  },
  {
   "cell_type": "markdown",
   "metadata": {},
   "source": [
    "# TCN code is shown below"
   ]
  },
  {
   "cell_type": "code",
   "execution_count": 47,
   "metadata": {},
   "outputs": [],
   "source": [
    "model=Sequential()"
   ]
  },
  {
   "cell_type": "markdown",
   "metadata": {
    "jupyter": {
     "outputs_hidden": true
    },
    "tags": []
   },
   "source": [
    "from tcn import TCN, tcn_full_summary, compiled_tcn\n",
    "from tensorflow.keras.layers import Dense\n",
    "from tensorflow.keras.models import Sequential\n",
    "\n",
    "# if time_steps > tcn_layer.receptive_field, then we should not\n",
    "# be able to solve this task.\n",
    "batch_size, time_steps, input_dim = 64, segment_length, 1\n",
    "\n",
    "\n",
    "# def get_x_y(size=1000):\n",
    "    #import numpy as np\n",
    "    #pos_indices = np.random.choice(size, size=int(size // 2), replace=False)\n",
    "    #x_train = np.zeros(shape=(size, time_steps, 1))\n",
    "    #y_train = np.zeros(shape=(size, 1))\n",
    "    #x_train[pos_indices, 0] = 1.0  # we introduce the target in the first timestep of the sequence.\n",
    "    #y_train[pos_indices, 0] = 1.0  # the task is to see if the TCN can go back in time to find it.\n",
    "    #return x_train, y_train\n",
    "\n",
    "\n",
    "tcn_layer = TCN(input_shape=(time_steps, input_dim))\n",
    "# The receptive field tells you how far the model can see in terms of timesteps.\n",
    "print('Receptive field size =', tcn_layer.receptive_field)\n",
    "\n",
    "m = Sequential([\n",
    "    tcn_layer,\n",
    "    Dense(1)\n",
    "])\n",
    "\n",
    "m.compile(optimizer='adam', loss='mse')\n",
    "\n",
    "tcn_full_summary(m)\n",
    "\n",
    "# x, y = get_x_y()\n",
    "# m.fit(x, y, epochs=10, validation_split=0.2)"
   ]
  },
  {
   "cell_type": "markdown",
   "metadata": {
    "tags": []
   },
   "source": [
    "from tcn import TCN, tcn_full_summary, compiled_tcn\n",
    "from tensorflow.keras.layers import Dense\n",
    "from tensorflow.keras.models import Sequential"
   ]
  },
  {
   "cell_type": "markdown",
   "metadata": {
    "tags": []
   },
   "source": [
    "model = compiled_tcn(return_sequences=False,\n",
    "                         num_feat=1,\n",
    "                         num_classes=4,\n",
    "                         nb_filters=20,\n",
    "                         kernel_size=6,\n",
    "                         dilations=[2 ** i for i in range(9)],\n",
    "                         nb_stacks=1,\n",
    "                         max_len=X_t[0:1].shape[1],\n",
    "                         output_len=1,  # type: int\n",
    "                         padding='causal',\n",
    "                         use_weight_norm=True,\n",
    "                         use_skip_connections=True)"
   ]
  }
 ],
 "metadata": {
  "instance_type": "ml.g4dn.xlarge",
  "kernelspec": {
   "display_name": "Python 3 (TensorFlow 2.3 Python 3.7 GPU Optimized)",
   "language": "python",
   "name": "python3__SAGEMAKER_INTERNAL__arn:aws:sagemaker:ap-southeast-2:452832661640:image/tensorflow-2.3-gpu-py37-cu110-ubuntu18.04-v3"
  },
  "language_info": {
   "codemirror_mode": {
    "name": "ipython",
    "version": 3
   },
   "file_extension": ".py",
   "mimetype": "text/x-python",
   "name": "python",
   "nbconvert_exporter": "python",
   "pygments_lexer": "ipython3",
   "version": "3.7.10"
  }
 },
 "nbformat": 4,
 "nbformat_minor": 4
}
